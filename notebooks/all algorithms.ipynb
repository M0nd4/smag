{
 "metadata": {
  "name": "",
  "signature": "sha256:2271b77652f68a5dd258a4946d9a3ede9875f21a183ebda5fca46b0c3b1bdd77"
 },
 "nbformat": 3,
 "nbformat_minor": 0,
 "worksheets": [
  {
   "cells": [
    {
     "cell_type": "code",
     "collapsed": false,
     "input": [
      "%matplotlib inline"
     ],
     "language": "python",
     "metadata": {},
     "outputs": [],
     "prompt_number": 20
    },
    {
     "cell_type": "heading",
     "level": 1,
     "metadata": {},
     "source": [
      "Week 1"
     ]
    },
    {
     "cell_type": "heading",
     "level": 2,
     "metadata": {},
     "source": [
      "Direct_py.py"
     ]
    },
    {
     "cell_type": "code",
     "collapsed": false,
     "input": [
      "import random\n",
      "\n",
      "n_trials = 4000\n",
      "n_hits = 0\n",
      "for iter in range(n_trials):\n",
      "    x, y = random.uniform(-1.0, 1.0), random.uniform(-1.0, 1.0)\n",
      "    if x**2 + y**2 < 1.0: \n",
      "        n_hits += 1\n",
      "print( 4.0 * n_hits / float(n_trials))"
     ],
     "language": "python",
     "metadata": {
      "slideshow": {
       "slide_type": "-"
      }
     },
     "outputs": [
      {
       "output_type": "stream",
       "stream": "stdout",
       "text": [
        "3.168\n"
       ]
      }
     ],
     "prompt_number": 2
    },
    {
     "cell_type": "heading",
     "level": 2,
     "metadata": {},
     "source": [
      "Direct_py_multirun.py"
     ]
    },
    {
     "cell_type": "code",
     "collapsed": false,
     "input": [
      "import random\n",
      " \n",
      "def direct_pi(N):\n",
      "    n_hits = 0\n",
      "    for i in range(N):\n",
      "        x, y = random.uniform(-1.0, 1.0), random.uniform(-1.0, 1.0)\n",
      "        if x ** 2 + y ** 2 < 1.0:\n",
      "            n_hits += 1\n",
      "    return n_hits\n",
      " \n",
      "n_runs = 10\n",
      "n_trials = 40000\n",
      "for run in range(n_runs):\n",
      "    print(4.0 * direct_pi(n_trials) / float(n_trials))"
     ],
     "language": "python",
     "metadata": {},
     "outputs": [
      {
       "output_type": "stream",
       "stream": "stdout",
       "text": [
        "3.1417\n",
        "3.1394"
       ]
      },
      {
       "output_type": "stream",
       "stream": "stdout",
       "text": [
        "\n",
        "3.1474"
       ]
      },
      {
       "output_type": "stream",
       "stream": "stdout",
       "text": [
        "\n",
        "3.15"
       ]
      },
      {
       "output_type": "stream",
       "stream": "stdout",
       "text": [
        "\n",
        "3.1441"
       ]
      },
      {
       "output_type": "stream",
       "stream": "stdout",
       "text": [
        "\n",
        "3.1345"
       ]
      },
      {
       "output_type": "stream",
       "stream": "stdout",
       "text": [
        "\n",
        "3.151\n",
        "3.1403"
       ]
      },
      {
       "output_type": "stream",
       "stream": "stdout",
       "text": [
        "\n",
        "3.1268\n",
        "3.1429"
       ]
      },
      {
       "output_type": "stream",
       "stream": "stdout",
       "text": [
        "\n"
       ]
      }
     ],
     "prompt_number": 6
    },
    {
     "cell_type": "heading",
     "level": 2,
     "metadata": {},
     "source": [
      "Markov_pi.py"
     ]
    },
    {
     "cell_type": "code",
     "collapsed": false,
     "input": [
      "import random\n",
      "\n",
      "x, y = 1.0, 1.0\n",
      "delta = 0.1\n",
      "n_trials = 4000\n",
      "n_hits = 0\n",
      "for i in range(n_trials):\n",
      "    del_x, del_y = random.uniform(-delta, delta), random.uniform(-delta, delta)\n",
      "    if abs(x + del_x) < 1.0 and abs(y + del_y) < 1.0:\n",
      "        x, y = x + del_x, y + del_y\n",
      "    if x**2 + y**2 < 1.0: n_hits += 1\n",
      "print( 4.0 * n_hits / float(n_trials))"
     ],
     "language": "python",
     "metadata": {},
     "outputs": [
      {
       "output_type": "stream",
       "stream": "stdout",
       "text": [
        "2.965\n"
       ]
      }
     ],
     "prompt_number": 8
    },
    {
     "cell_type": "heading",
     "level": 2,
     "metadata": {},
     "source": [
      "Markov_pi_multirun.py"
     ]
    },
    {
     "cell_type": "code",
     "collapsed": false,
     "input": [
      "import random\n",
      "\n",
      "def markov_pi(N, delta): \n",
      "    x, y = 1.0, 1.0\n",
      "    n_hits = 0\n",
      "    for i in range(N):\n",
      "        del_x, del_y = random.uniform(-delta, delta), random.uniform(-delta, delta)\n",
      "        if abs(x + del_x) < 1.0 and abs(y + del_y) < 1.0:\n",
      "            x, y = x + del_x, y + del_y\n",
      "        if x**2 + y**2 < 1.0: n_hits += 1\n",
      "    return n_hits\n",
      "\n",
      "n_runs = 10\n",
      "n_trials = 40000\n",
      "delta = 0.1\n",
      "for run in range(n_runs):\n",
      "    print( 4.0 * markov_pi(n_trials, delta) / float(n_trials))"
     ],
     "language": "python",
     "metadata": {},
     "outputs": [
      {
       "output_type": "stream",
       "stream": "stdout",
       "text": [
        "3.2644\n",
        "3.0562"
       ]
      },
      {
       "output_type": "stream",
       "stream": "stdout",
       "text": [
        "\n",
        "3.2902"
       ]
      },
      {
       "output_type": "stream",
       "stream": "stdout",
       "text": [
        "\n",
        "3.1231"
       ]
      },
      {
       "output_type": "stream",
       "stream": "stdout",
       "text": [
        "\n",
        "3.1716"
       ]
      },
      {
       "output_type": "stream",
       "stream": "stdout",
       "text": [
        "\n",
        "3.1608"
       ]
      },
      {
       "output_type": "stream",
       "stream": "stdout",
       "text": [
        "\n",
        "3.1228"
       ]
      },
      {
       "output_type": "stream",
       "stream": "stdout",
       "text": [
        "\n",
        "3.254"
       ]
      },
      {
       "output_type": "stream",
       "stream": "stdout",
       "text": [
        "\n",
        "3.2596"
       ]
      },
      {
       "output_type": "stream",
       "stream": "stdout",
       "text": [
        "\n",
        "3.057"
       ]
      },
      {
       "output_type": "stream",
       "stream": "stdout",
       "text": [
        "\n"
       ]
      }
     ],
     "prompt_number": 13
    },
    {
     "cell_type": "heading",
     "level": 2,
     "metadata": {},
     "source": [
      "pebble_basic.py"
     ]
    },
    {
     "cell_type": "code",
     "collapsed": false,
     "input": [
      "import random\n",
      "\n",
      "neighbor =  [[1, 3, 0, 0], [2, 4, 0, 1], [2, 5, 1, 2],\n",
      "             [4, 6, 3, 0], [5, 7, 3, 1], [5, 8, 4, 2],\n",
      "             [7, 6, 6, 3], [8, 7, 6, 4], [8, 8, 7, 5]]\n",
      "t_max = 4\n",
      "site = 8\n",
      "t = 0\n",
      "print(site)\n",
      "while t < t_max:\n",
      "    t += 1\n",
      "    site = neighbor[site][random.randint(0, 3)]\n",
      "    print(site)"
     ],
     "language": "python",
     "metadata": {},
     "outputs": [
      {
       "output_type": "stream",
       "stream": "stdout",
       "text": [
        "8\n",
        "7\n",
        "6\n",
        "3\n",
        "4\n"
       ]
      }
     ],
     "prompt_number": 15
    },
    {
     "cell_type": "heading",
     "level": 2,
     "metadata": {},
     "source": [
      "Pebble_basic_inhomogeneous.py"
     ]
    },
    {
     "cell_type": "code",
     "collapsed": false,
     "input": [
      "import random\n",
      "\n",
      "histo = [0, 0, 0, 0, 0, 0, 0, 0, 0]\n",
      "neighbor =  [[1, 3, 0, 0], [2, 4, 0, 1], [2, 5, 1, 2],\n",
      "             [4, 6, 3, 0], [5, 7, 3, 1], [5, 8, 4, 2],\n",
      "             [7, 6, 6, 3], [8, 7, 6, 4], [8, 8, 7, 5]]\n",
      "weight = [3.0, 0.5, 1.0, 0.5, 1.0, 0.5, 2.0, 0.5, 1.0]\n",
      "pos = 8\n",
      "n_iter = 1000000\n",
      "for iter in range(n_iter):\n",
      "    new_pos = neighbor[pos][random.randint(0, 3)]\n",
      "    if random.random() < weight[new_pos] / weight[pos]:\n",
      "        pos = new_pos\n",
      "    histo[pos] += 1 \n",
      "\n",
      "norm = sum(weight)\n",
      "print( 'comparison:  weight, histogram')\n",
      "for k in range(9): \n",
      "    print('site: ', k,' weight: ', weight[k], ' histo: ', norm * histo[k] / float(n_iter))"
     ],
     "language": "python",
     "metadata": {},
     "outputs": [
      {
       "output_type": "stream",
       "stream": "stdout",
       "text": [
        "comparison:  weight, histogram\n",
        "site:  0  weight:  3.0  histo:  2.97913\n",
        "site:  1  weight:  0.5  histo:  0.50006\n",
        "site:  2  weight:  1.0  histo:  1.00438\n",
        "site:  3  weight:  0.5  histo:  0.49655\n",
        "site:  4  weight:  1.0  histo:  1.0038\n",
        "site:  5  weight:  0.5  histo:  0.50392\n",
        "site:  6  weight:  2.0  histo:  1.996\n",
        "site:  7  weight:  0.5  histo:  0.50426\n",
        "site:  8  weight:  1.0  histo:  1.0119\n"
       ]
      }
     ],
     "prompt_number": 19
    },
    {
     "cell_type": "code",
     "collapsed": false,
     "input": [
      "import matplotlib.pyplot as plt\n",
      "plt.figure()\n",
      "plt.plot(weight,\"-.\")\n",
      "plt.show()"
     ],
     "language": "python",
     "metadata": {},
     "outputs": [
      {
       "metadata": {},
       "output_type": "display_data",
       "png": "[encoded data removed]",
       "text": [
        "<matplotlib.figure.Figure at 0x7fabc78fd0f0>"
       ]
      }
     ],
     "prompt_number": 27
    },
    {
     "cell_type": "heading",
     "level": 2,
     "metadata": {},
     "source": [
      "Pebble_dual_eigen.py"
     ]
    },
    {
     "cell_type": "code",
     "collapsed": false,
     "input": [
      "import numpy\n",
      " \n",
      "neighbor =  [[1, 3, 0, 0], [2, 4, 0, 1], [2, 5, 1, 2],\n",
      "             [4, 6, 3, 0], [5, 7, 3, 1], [5, 8, 4, 2],\n",
      "             [7, 6, 6, 3], [8, 7, 6, 4], [8, 8, 7, 5]]\n",
      "transfer = numpy.zeros((18, 18))\n",
      "for k in range(9):\n",
      "    for neigh in range(4): \n",
      "        transfer[neighbor[k][neigh], k] += 0.25     # red pebble game\n",
      "        transfer[neighbor[k][neigh]+9, k+9] += 0.25 # blue pebble game   \n",
      "# small transition epsilon between red 2 and blue 6\n",
      "epsilon = 0.04\n",
      "transfer[6+9,2] = transfer[2,6+9] = epsilon\n",
      "transfer[2,2] -= epsilon\n",
      "transfer[6+9,6+9] -= epsilon\n",
      "eigenvalues, eigenvectors = numpy.linalg.eig(transfer)\n",
      "print(eigenvalues)\n",
      " \n",
      "# you may print the eigenvectors by uncommenting the following four lines\n",
      "#for iter in range(18):\n",
      "#    print eigenvalues[iter]\n",
      "#    for i in range(18):\n",
      "#        print eigenvectors[i][iter]"
     ],
     "language": "python",
     "metadata": {},
     "outputs": [
      {
       "output_type": "stream",
       "stream": "stdout",
       "text": [
        "[ -5.02430015e-01  -5.00000000e-01   1.00000000e+00   9.92451031e-01\n",
        "   5.00000000e-01   4.79023434e-01   7.25649298e-01   2.40311308e-01\n",
        "  -1.50050555e-02   2.50000000e-01   2.50000000e-01   7.50000000e-01\n",
        "   7.50000000e-01   1.17595279e-16   7.50000000e-01   2.84513904e-17\n",
        "  -2.09207488e-17   2.50000000e-01]\n"
       ]
      }
     ],
     "prompt_number": 28
    },
    {
     "cell_type": "heading",
     "level": 2,
     "metadata": {},
     "source": [
      "Pebble_multirun_all_histogram.py"
     ]
    },
    {
     "cell_type": "code",
     "collapsed": false,
     "input": [
      "import random\n",
      "import numpy as np\n",
      "import matplotlib.pyplot as plt\n",
      "\n",
      "xvec = {1:3, 2:2, 3:1, 4:3, 5:2, 6:1, 7:3, 8:2, 9:1} \n",
      "yvec = {1:1, 2:1, 3:1, 4:2, 5:2, 6:2, 7:3, 8:3, 9:3} \n",
      "\n",
      "neighbor = {1 : [2, 4, 1, 1], 2 : [3, 5, 1, 2], 3 : [3, 6, 2, 3],\n",
      "            4 : [5, 7, 4, 1], 5 : [6, 8, 4, 2], 6 : [6, 9, 5, 3],\n",
      "            7 : [8, 7, 7, 4], 8 : [9, 8, 7, 5], 9 : [9, 9, 8, 6]}\n",
      "\n",
      "N_runs = 5\n",
      "for run in range(N_runs):\n",
      "    list_vec = []\n",
      "    if run < 10:  run_str= '0'+str(run)\n",
      "    else: run_str = str(run)\n",
      "    for n_runs in range(100000): \n",
      "        pos = 9\n",
      "        for iter in range(run):\n",
      "            pos = neighbor[pos][ random.randint(0, 3)]\n",
      "        list_vec.append(pos)\n",
      "\n",
      "    x = [xvec[k] for k in list_vec]\n",
      "    y = [yvec[k] for k in list_vec]\n",
      "\n",
      "    plt.xticks([])\n",
      "    plt.yticks([])\n",
      "    H, xedges, yedges = np.histogram2d(x, y, bins=(3, 3), \n",
      "               range=[[1,3],[1,3]], normed=True)\n",
      "    print( H)\n",
      "    H /= np.sum(H)\n",
      "    print( H)\n",
      "    extent = [yedges[0], yedges[-1], xedges[-1], xedges[0]]\n",
      "    histo = plt.imshow(H, extent=extent, interpolation='nearest', vmin=0, vmax=1.00)\n",
      "    histo.set_cmap('hot')\n",
      "    plt.colorbar()\n",
      "    plt.title('t = '+str(run),fontsize=22)\n",
      "    plt.show()"
     ],
     "language": "python",
     "metadata": {},
     "outputs": [
      {
       "output_type": "stream",
       "stream": "stdout",
       "text": [
        "[[ 0.    0.    2.25]\n",
        " [ 0.    0.    0.  ]\n",
        " [ 0.    0.    0.  ]]\n",
        "[[ 0.  0.  1.]\n",
        " [ 0.  0.  0.]\n",
        " [ 0.  0.  0.]]\n"
       ]
      },
      {
       "metadata": {},
       "output_type": "display_data",
       "png": "[encoded data removed]",
       "text": [
        "<matplotlib.figure.Figure at 0x7fabcdd3a9b0>"
       ]
      },
      {
       "output_type": "stream",
       "stream": "stdout",
       "text": [
        "[[ 0.         0.5633775  1.116945 ]\n",
        " [ 0.         0.         0.5696775]\n",
        " [ 0.         0.         0.       ]]\n",
        "[[ 0.       0.25039  0.49642]\n",
        " [ 0.       0.       0.25319]\n",
        " [ 0.       0.       0.     ]]\n"
       ]
      },
      {
       "metadata": {},
       "output_type": "display_data",
       "png": "[encoded data removed]",
       "text": [
        "<matplotlib.figure.Figure at 0x7fabc78d8a20>"
       ]
      },
      {
       "output_type": "stream",
       "stream": "stdout",
       "text": [
        "[[ 0.1408275  0.426555   0.84402  ]\n",
        " [ 0.         0.278775   0.41841  ]\n",
        " [ 0.         0.         0.1414125]]\n",
        "[[ 0.06259  0.18958  0.37512]\n",
        " [ 0.       0.1239   0.18596]\n",
        " [ 0.       0.       0.06285]]\n"
       ]
      },
      {
       "metadata": {},
       "output_type": "display_data",
       "png": "[encoded data removed]",
       "text": [
        "<matplotlib.figure.Figure at 0x7fabe405d588>"
       ]
      },
      {
       "output_type": "stream",
       "stream": "stdout",
       "text": [
        "[[ 0.1775925  0.42183    0.634725 ]\n",
        " [ 0.1053225  0.2072475  0.42363  ]\n",
        " [ 0.         0.1075725  0.17208  ]]\n",
        "[[ 0.07893  0.18748  0.2821 ]\n",
        " [ 0.04681  0.09211  0.18828]\n",
        " [ 0.       0.04781  0.07648]]\n"
       ]
      },
      {
       "metadata": {},
       "output_type": "display_data",
       "png": "[encoded data removed]",
       "text": [
        "<matplotlib.figure.Figure at 0x7fabc78fd710>"
       ]
      },
      {
       "output_type": "stream",
       "stream": "stdout",
       "text": [
        "[[ 0.218295   0.3594825  0.5247675]\n",
        " [ 0.1224225  0.263475   0.36306  ]\n",
        " [ 0.0521325  0.1220625  0.2243025]]\n",
        "[[ 0.09702  0.15977  0.23323]\n",
        " [ 0.05441  0.1171   0.16136]\n",
        " [ 0.02317  0.05425  0.09969]]\n"
       ]
      },
      {
       "metadata": {},
       "output_type": "display_data",
       "png": "[encoded data removed]",
       "text": [
        "<matplotlib.figure.Figure at 0x7fabc777b588>"
       ]
      }
     ],
     "prompt_number": 32
    },
    {
     "cell_type": "heading",
     "level": 1,
     "metadata": {},
     "source": [
      "Week 1 Homework"
     ]
    },
    {
     "cell_type": "heading",
     "level": 2,
     "metadata": {},
     "source": [
      "A1"
     ]
    },
    {
     "cell_type": "code",
     "collapsed": false,
     "input": [
      "import random, math, matplotlib.pyplot as plt\n",
      "import random, math, pylab\n",
      "\n",
      "def direct_pi(N):\n",
      "    n_hits = 0\n",
      "    for i in range(N):\n",
      "        x, y = random.uniform(-1.0, 1.0), random.uniform(-1.0, 1.0)\n",
      "        if x ** 2 + y ** 2 < 1.0:\n",
      "            n_hits += 1\n",
      "    return n_hits\n",
      "\n",
      "n_runs = 500\n",
      "n_trials_list = []\n",
      "sigmas = []\n",
      "for poweroftwo in range(4, 13):\n",
      "    n_trials = 2 ** poweroftwo\n",
      "    sigma = 0.0\n",
      "    for run in range(n_runs):\n",
      "        pi_est = 4.0 * direct_pi(n_trials) / float(n_trials)\n",
      "        sigma += (pi_est - math.pi) ** 2\n",
      "    sigmas.append(math.sqrt(sigma/(n_runs)))\n",
      "    n_trials_list.append(n_trials)\n",
      "\n",
      "plt.figure()\n",
      "plt.plot(n_trials_list, sigmas, 'x')\n",
      "import numpy as np\n",
      "p = np.polyfit(np.log(n_trials_list),np.log(sigmas),1)\n",
      "plt.plot(n_trials_list, np.exp(np.polyval(p,np.log(n_trials_list))))\n",
      "plt.annotate(r'$\\alpha = %.5f$'%p[0], xy=(.5, .6), xycoords='figure fraction', horizontalalignment='left', verticalalignment='top', fontsize=16) \n",
      "plt.gca().set_xscale('log')\n",
      "plt.gca().set_yscale('log')\n",
      "plt.xlabel('Number of trials')\n",
      "plt.ylabel('$\\sigma$')\n",
      "plt.grid(True)\n",
      "plt.title('Direct sampling: Standard deviation $\\sigma$ as a function of n_trials')\n",
      "#plt.savefig('direct_sampling_statistical_error.png')\n",
      "plt.show()"
     ],
     "language": "python",
     "metadata": {},
     "outputs": [
      {
       "metadata": {},
       "output_type": "display_data",
       "png": "[encoded data removed]",
       "text": [
        "<matplotlib.figure.Figure at 0x7fabc76a7f98>"
       ]
      }
     ],
     "prompt_number": 34
    },
    {
     "cell_type": "heading",
     "level": 2,
     "metadata": {},
     "source": [
      "B2"
     ]
    },
    {
     "cell_type": "code",
     "collapsed": false,
     "input": [
      "import random\n",
      "import numpy as np\n",
      "import matplotlib.pyplot as plt\n",
      "\n",
      "def markov_pi(N, delta): \n",
      "    x, y = 1.0, 1.0\n",
      "    n_hits = 0\n",
      "    accepts = 0 \n",
      "    for i in range(N):\n",
      "        del_x, del_y = random.uniform(-delta, delta), random.uniform(-delta, delta)\n",
      "        if abs(x + del_x) < 1.0 and abs(y + del_y) < 1.0:\n",
      "            x, y = x + del_x, y + del_y\n",
      "            accepts += 1\n",
      "        if x**2 + y**2 < 1.0: \n",
      "            n_hits += 1\n",
      "    return n_hits,accepts\n",
      "\n",
      "n_runs = 500\n",
      "n_trials = 1000\n",
      "dels = np.arange(0.1,5.0 + 0.1, 0.1)\n",
      "acc = np.zeros(len(dels))\n",
      "\n",
      "def acc():\n",
      "    for d in range(len(dels)):\n",
      "        for run in range(n_runs):\n",
      "                acc[d] += markov_pi(n_trials, dels[d])[1] / n_trials\n",
      "        acc[d]/= n_runs\n",
      "        print(\"%.3f \"%(100*d/len(dels)))\n",
      "    plt.figure()\n",
      "    plt.plot(dels,acc)\n",
      "    plt.xlabel(r\"Rejected factor $\\delta$\")\n",
      "    plt.ylabel(r\"Acceptance ratio\")\n",
      "    plt.title(r\"$\\frac{1}{2}$ Rule of Thumb\")\n",
      "    plt.grid(True)\n",
      "    plt.show()\n",
      "acc()\n",
      "def plot_rms():\n",
      "    sigmas= []\n",
      "    for d in range(len(dels)):\n",
      "        sigma = 0.1\n",
      "        for run in range(n_runs):\n",
      "            pi_est = 4.0*markov_pi(n_trials, dels[d])[0] / n_trials\n",
      "            sigma += (pi_est - np.pi) ** 2\n",
      "        sigmas+=[np.sqrt(sigma/n_runs)]\n",
      "        print(\"%.3f \"%(100*d/len(dels)))\n",
      "    plt.figure()\n",
      "    plt.plot(dels,sigmas)\n",
      "    plt.xlabel(r\"Rejected factor $\\delta$\")\n",
      "    plt.ylabel(r\"rms error\")\n",
      "    plt.title(r\"$\\frac{1}{2}$ Rule of Thumb\")\n",
      "    plt.grid(True)\n",
      "    plt.show()\n",
      "\n",
      "plot_rms()"
     ],
     "language": "python",
     "metadata": {},
     "outputs": [
      {
       "ename": "TypeError",
       "evalue": "'function' object is not subscriptable",
       "output_type": "pyerr",
       "traceback": [
        "\u001b[1;31m---------------------------------------------------------------------------\u001b[0m\n\u001b[1;31mTypeError\u001b[0m                                 Traceback (most recent call last)",
        "\u001b[1;32m<ipython-input-36-d0b587f92095>\u001b[0m in \u001b[0;36m<module>\u001b[1;34m()\u001b[0m\n\u001b[0;32m     34\u001b[0m     \u001b[0mplt\u001b[0m\u001b[1;33m.\u001b[0m\u001b[0mgrid\u001b[0m\u001b[1;33m(\u001b[0m\u001b[1;32mTrue\u001b[0m\u001b[1;33m)\u001b[0m\u001b[1;33m\u001b[0m\u001b[0m\n\u001b[0;32m     35\u001b[0m     \u001b[0mplt\u001b[0m\u001b[1;33m.\u001b[0m\u001b[0mshow\u001b[0m\u001b[1;33m(\u001b[0m\u001b[1;33m)\u001b[0m\u001b[1;33m\u001b[0m\u001b[0m\n\u001b[1;32m---> 36\u001b[1;33m \u001b[0macc\u001b[0m\u001b[1;33m(\u001b[0m\u001b[1;33m)\u001b[0m\u001b[1;33m\u001b[0m\u001b[0m\n\u001b[0m\u001b[0;32m     37\u001b[0m \u001b[1;32mdef\u001b[0m \u001b[0mplot_rms\u001b[0m\u001b[1;33m(\u001b[0m\u001b[1;33m)\u001b[0m\u001b[1;33m:\u001b[0m\u001b[1;33m\u001b[0m\u001b[0m\n\u001b[0;32m     38\u001b[0m     \u001b[0msigmas\u001b[0m\u001b[1;33m=\u001b[0m \u001b[1;33m[\u001b[0m\u001b[1;33m]\u001b[0m\u001b[1;33m\u001b[0m\u001b[0m\n",
        "\u001b[1;32m<ipython-input-36-d0b587f92095>\u001b[0m in \u001b[0;36macc\u001b[1;34m()\u001b[0m\n\u001b[0;32m     24\u001b[0m     \u001b[1;32mfor\u001b[0m \u001b[0md\u001b[0m \u001b[1;32min\u001b[0m \u001b[0mrange\u001b[0m\u001b[1;33m(\u001b[0m\u001b[0mlen\u001b[0m\u001b[1;33m(\u001b[0m\u001b[0mdels\u001b[0m\u001b[1;33m)\u001b[0m\u001b[1;33m)\u001b[0m\u001b[1;33m:\u001b[0m\u001b[1;33m\u001b[0m\u001b[0m\n\u001b[0;32m     25\u001b[0m         \u001b[1;32mfor\u001b[0m \u001b[0mrun\u001b[0m \u001b[1;32min\u001b[0m \u001b[0mrange\u001b[0m\u001b[1;33m(\u001b[0m\u001b[0mn_runs\u001b[0m\u001b[1;33m)\u001b[0m\u001b[1;33m:\u001b[0m\u001b[1;33m\u001b[0m\u001b[0m\n\u001b[1;32m---> 26\u001b[1;33m                 \u001b[0macc\u001b[0m\u001b[1;33m[\u001b[0m\u001b[0md\u001b[0m\u001b[1;33m]\u001b[0m \u001b[1;33m+=\u001b[0m \u001b[0mmarkov_pi\u001b[0m\u001b[1;33m(\u001b[0m\u001b[0mn_trials\u001b[0m\u001b[1;33m,\u001b[0m \u001b[0mdels\u001b[0m\u001b[1;33m[\u001b[0m\u001b[0md\u001b[0m\u001b[1;33m]\u001b[0m\u001b[1;33m)\u001b[0m\u001b[1;33m[\u001b[0m\u001b[1;36m1\u001b[0m\u001b[1;33m]\u001b[0m \u001b[1;33m/\u001b[0m \u001b[0mn_trials\u001b[0m\u001b[1;33m\u001b[0m\u001b[0m\n\u001b[0m\u001b[0;32m     27\u001b[0m         \u001b[0macc\u001b[0m\u001b[1;33m[\u001b[0m\u001b[0md\u001b[0m\u001b[1;33m]\u001b[0m\u001b[1;33m/=\u001b[0m \u001b[0mn_runs\u001b[0m\u001b[1;33m\u001b[0m\u001b[0m\n\u001b[0;32m     28\u001b[0m         \u001b[0mprint\u001b[0m\u001b[1;33m(\u001b[0m\u001b[1;34m\"%.3f \"\u001b[0m\u001b[1;33m%\u001b[0m\u001b[1;33m(\u001b[0m\u001b[1;36m100\u001b[0m\u001b[1;33m*\u001b[0m\u001b[0md\u001b[0m\u001b[1;33m/\u001b[0m\u001b[0mlen\u001b[0m\u001b[1;33m(\u001b[0m\u001b[0mdels\u001b[0m\u001b[1;33m)\u001b[0m\u001b[1;33m)\u001b[0m\u001b[1;33m)\u001b[0m\u001b[1;33m\u001b[0m\u001b[0m\n",
        "\u001b[1;31mTypeError\u001b[0m: 'function' object is not subscriptable"
       ]
      }
     ],
     "prompt_number": 36
    },
    {
     "cell_type": "code",
     "collapsed": false,
     "input": [],
     "language": "python",
     "metadata": {},
     "outputs": []
    }
   ],
   "metadata": {}
  }
 ]
}