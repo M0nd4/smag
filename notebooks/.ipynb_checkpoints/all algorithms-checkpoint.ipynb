{
 "metadata": {
  "name": "",
  "signature": "sha256:5ede2e9e369d9ba34eec55436f482ef9825f55dac5fe8a78bc56232728db5495"
 },
 "nbformat": 3,
 "nbformat_minor": 0,
 "worksheets": [
  {
   "cells": [
    {
     "cell_type": "code",
     "collapsed": false,
     "input": [
      "%matplotlib inline"
     ],
     "language": "python",
     "metadata": {},
     "outputs": [],
     "prompt_number": 20
    },
    {
     "cell_type": "heading",
     "level": 1,
     "metadata": {},
     "source": [
      "Week1"
     ]
    },
    {
     "cell_type": "heading",
     "level": 2,
     "metadata": {},
     "source": [
      "Direct_py.py"
     ]
    },
    {
     "cell_type": "code",
     "collapsed": false,
     "input": [
      "import random\n",
      "\n",
      "n_trials = 4000\n",
      "n_hits = 0\n",
      "for iter in range(n_trials):\n",
      "    x, y = random.uniform(-1.0, 1.0), random.uniform(-1.0, 1.0)\n",
      "    if x**2 + y**2 < 1.0: \n",
      "        n_hits += 1\n",
      "print( 4.0 * n_hits / float(n_trials))"
     ],
     "language": "python",
     "metadata": {
      "slideshow": {
       "slide_type": "-"
      }
     },
     "outputs": [
      {
       "output_type": "stream",
       "stream": "stdout",
       "text": [
        "3.168\n"
       ]
      }
     ],
     "prompt_number": 2
    },
    {
     "cell_type": "heading",
     "level": 2,
     "metadata": {},
     "source": [
      "Direct_py_multirun.py"
     ]
    },
    {
     "cell_type": "code",
     "collapsed": false,
     "input": [
      "import random\n",
      " \n",
      "def direct_pi(N):\n",
      "    n_hits = 0\n",
      "    for i in range(N):\n",
      "        x, y = random.uniform(-1.0, 1.0), random.uniform(-1.0, 1.0)\n",
      "        if x ** 2 + y ** 2 < 1.0:\n",
      "            n_hits += 1\n",
      "    return n_hits\n",
      " \n",
      "n_runs = 10\n",
      "n_trials = 40000\n",
      "for run in range(n_runs):\n",
      "    print(4.0 * direct_pi(n_trials) / float(n_trials))"
     ],
     "language": "python",
     "metadata": {},
     "outputs": [
      {
       "output_type": "stream",
       "stream": "stdout",
       "text": [
        "3.1417\n",
        "3.1394"
       ]
      },
      {
       "output_type": "stream",
       "stream": "stdout",
       "text": [
        "\n",
        "3.1474"
       ]
      },
      {
       "output_type": "stream",
       "stream": "stdout",
       "text": [
        "\n",
        "3.15"
       ]
      },
      {
       "output_type": "stream",
       "stream": "stdout",
       "text": [
        "\n",
        "3.1441"
       ]
      },
      {
       "output_type": "stream",
       "stream": "stdout",
       "text": [
        "\n",
        "3.1345"
       ]
      },
      {
       "output_type": "stream",
       "stream": "stdout",
       "text": [
        "\n",
        "3.151\n",
        "3.1403"
       ]
      },
      {
       "output_type": "stream",
       "stream": "stdout",
       "text": [
        "\n",
        "3.1268\n",
        "3.1429"
       ]
      },
      {
       "output_type": "stream",
       "stream": "stdout",
       "text": [
        "\n"
       ]
      }
     ],
     "prompt_number": 6
    },
    {
     "cell_type": "heading",
     "level": 2,
     "metadata": {},
     "source": [
      "Markov_pi.py"
     ]
    },
    {
     "cell_type": "code",
     "collapsed": false,
     "input": [
      "import random\n",
      "\n",
      "x, y = 1.0, 1.0\n",
      "delta = 0.1\n",
      "n_trials = 4000\n",
      "n_hits = 0\n",
      "for i in range(n_trials):\n",
      "    del_x, del_y = random.uniform(-delta, delta), random.uniform(-delta, delta)\n",
      "    if abs(x + del_x) < 1.0 and abs(y + del_y) < 1.0:\n",
      "        x, y = x + del_x, y + del_y\n",
      "    if x**2 + y**2 < 1.0: n_hits += 1\n",
      "print( 4.0 * n_hits / float(n_trials))"
     ],
     "language": "python",
     "metadata": {},
     "outputs": [
      {
       "output_type": "stream",
       "stream": "stdout",
       "text": [
        "2.965\n"
       ]
      }
     ],
     "prompt_number": 8
    },
    {
     "cell_type": "heading",
     "level": 2,
     "metadata": {},
     "source": [
      "Markov_pi_multirun.py"
     ]
    },
    {
     "cell_type": "code",
     "collapsed": false,
     "input": [
      "import random\n",
      "\n",
      "def markov_pi(N, delta): \n",
      "    x, y = 1.0, 1.0\n",
      "    n_hits = 0\n",
      "    for i in range(N):\n",
      "        del_x, del_y = random.uniform(-delta, delta), random.uniform(-delta, delta)\n",
      "        if abs(x + del_x) < 1.0 and abs(y + del_y) < 1.0:\n",
      "            x, y = x + del_x, y + del_y\n",
      "        if x**2 + y**2 < 1.0: n_hits += 1\n",
      "    return n_hits\n",
      "\n",
      "n_runs = 10\n",
      "n_trials = 40000\n",
      "delta = 0.1\n",
      "for run in range(n_runs):\n",
      "    print( 4.0 * markov_pi(n_trials, delta) / float(n_trials))"
     ],
     "language": "python",
     "metadata": {},
     "outputs": [
      {
       "output_type": "stream",
       "stream": "stdout",
       "text": [
        "3.2644\n",
        "3.0562"
       ]
      },
      {
       "output_type": "stream",
       "stream": "stdout",
       "text": [
        "\n",
        "3.2902"
       ]
      },
      {
       "output_type": "stream",
       "stream": "stdout",
       "text": [
        "\n",
        "3.1231"
       ]
      },
      {
       "output_type": "stream",
       "stream": "stdout",
       "text": [
        "\n",
        "3.1716"
       ]
      },
      {
       "output_type": "stream",
       "stream": "stdout",
       "text": [
        "\n",
        "3.1608"
       ]
      },
      {
       "output_type": "stream",
       "stream": "stdout",
       "text": [
        "\n",
        "3.1228"
       ]
      },
      {
       "output_type": "stream",
       "stream": "stdout",
       "text": [
        "\n",
        "3.254"
       ]
      },
      {
       "output_type": "stream",
       "stream": "stdout",
       "text": [
        "\n",
        "3.2596"
       ]
      },
      {
       "output_type": "stream",
       "stream": "stdout",
       "text": [
        "\n",
        "3.057"
       ]
      },
      {
       "output_type": "stream",
       "stream": "stdout",
       "text": [
        "\n"
       ]
      }
     ],
     "prompt_number": 13
    },
    {
     "cell_type": "heading",
     "level": 2,
     "metadata": {},
     "source": [
      "pebble_basic.py"
     ]
    },
    {
     "cell_type": "code",
     "collapsed": false,
     "input": [
      "import random\n",
      "\n",
      "neighbor =  [[1, 3, 0, 0], [2, 4, 0, 1], [2, 5, 1, 2],\n",
      "             [4, 6, 3, 0], [5, 7, 3, 1], [5, 8, 4, 2],\n",
      "             [7, 6, 6, 3], [8, 7, 6, 4], [8, 8, 7, 5]]\n",
      "t_max = 4\n",
      "site = 8\n",
      "t = 0\n",
      "print(site)\n",
      "while t < t_max:\n",
      "    t += 1\n",
      "    site = neighbor[site][random.randint(0, 3)]\n",
      "    print(site)"
     ],
     "language": "python",
     "metadata": {},
     "outputs": [
      {
       "output_type": "stream",
       "stream": "stdout",
       "text": [
        "8\n",
        "7\n",
        "6\n",
        "3\n",
        "4\n"
       ]
      }
     ],
     "prompt_number": 15
    },
    {
     "cell_type": "heading",
     "level": 2,
     "metadata": {},
     "source": [
      "Pebble_basic_inhomogeneous.py"
     ]
    },
    {
     "cell_type": "code",
     "collapsed": false,
     "input": [
      "import random\n",
      "\n",
      "histo = [0, 0, 0, 0, 0, 0, 0, 0, 0]\n",
      "neighbor =  [[1, 3, 0, 0], [2, 4, 0, 1], [2, 5, 1, 2],\n",
      "             [4, 6, 3, 0], [5, 7, 3, 1], [5, 8, 4, 2],\n",
      "             [7, 6, 6, 3], [8, 7, 6, 4], [8, 8, 7, 5]]\n",
      "weight = [3.0, 0.5, 1.0, 0.5, 1.0, 0.5, 2.0, 0.5, 1.0]\n",
      "pos = 8\n",
      "n_iter = 1000000\n",
      "for iter in range(n_iter):\n",
      "    new_pos = neighbor[pos][random.randint(0, 3)]\n",
      "    if random.random() < weight[new_pos] / weight[pos]:\n",
      "        pos = new_pos\n",
      "    histo[pos] += 1 \n",
      "\n",
      "norm = sum(weight)\n",
      "print( 'comparison:  weight, histogram')\n",
      "for k in range(9): \n",
      "    print('site: ', k,' weight: ', weight[k], ' histo: ', norm * histo[k] / float(n_iter))"
     ],
     "language": "python",
     "metadata": {},
     "outputs": [
      {
       "output_type": "stream",
       "stream": "stdout",
       "text": [
        "comparison:  weight, histogram\n",
        "site:  0  weight:  3.0  histo:  2.97913\n",
        "site:  1  weight:  0.5  histo:  0.50006\n",
        "site:  2  weight:  1.0  histo:  1.00438\n",
        "site:  3  weight:  0.5  histo:  0.49655\n",
        "site:  4  weight:  1.0  histo:  1.0038\n",
        "site:  5  weight:  0.5  histo:  0.50392\n",
        "site:  6  weight:  2.0  histo:  1.996\n",
        "site:  7  weight:  0.5  histo:  0.50426\n",
        "site:  8  weight:  1.0  histo:  1.0119\n"
       ]
      }
     ],
     "prompt_number": 19
    },
    {
     "cell_type": "code",
     "collapsed": false,
     "input": [
      "import matplotlib.pyplot as plt\n",
      "plt.figure()\n",
      "plt.plot(weight,\"-.\")\n",
      "plt.show()"
     ],
     "language": "python",
     "metadata": {},
     "outputs": [
      {
       "metadata": {},
       "output_type": "display_data",
       "png": "[encoded data removed]",
       "text": [
        "<matplotlib.figure.Figure at 0x7fabc78fd0f0>"
       ]
      }
     ],
     "prompt_number": 27
    },
    {
     "cell_type": "heading",
     "level": 2,
     "metadata": {},
     "source": [
      "Pebble_dual_eigen.py"
     ]
    },
    {
     "cell_type": "code",
     "collapsed": false,
     "input": [
      "import numpy\n",
      " \n",
      "neighbor =  [[1, 3, 0, 0], [2, 4, 0, 1], [2, 5, 1, 2],\n",
      "             [4, 6, 3, 0], [5, 7, 3, 1], [5, 8, 4, 2],\n",
      "             [7, 6, 6, 3], [8, 7, 6, 4], [8, 8, 7, 5]]\n",
      "transfer = numpy.zeros((18, 18))\n",
      "for k in range(9):\n",
      "    for neigh in range(4): \n",
      "        transfer[neighbor[k][neigh], k] += 0.25     # red pebble game\n",
      "        transfer[neighbor[k][neigh]+9, k+9] += 0.25 # blue pebble game   \n",
      "# small transition epsilon between red 2 and blue 6\n",
      "epsilon = 0.04\n",
      "transfer[6+9,2] = transfer[2,6+9] = epsilon\n",
      "transfer[2,2] -= epsilon\n",
      "transfer[6+9,6+9] -= epsilon\n",
      "eigenvalues, eigenvectors = numpy.linalg.eig(transfer)\n",
      "print(eigenvalues)\n",
      " \n",
      "# you may print the eigenvectors by uncommenting the following four lines\n",
      "#for iter in range(18):\n",
      "#    print eigenvalues[iter]\n",
      "#    for i in range(18):\n",
      "#        print eigenvectors[i][iter]"
     ],
     "language": "python",
     "metadata": {},
     "outputs": [
      {
       "output_type": "stream",
       "stream": "stdout",
       "text": [
        "[ -5.02430015e-01  -5.00000000e-01   1.00000000e+00   9.92451031e-01\n",
        "   5.00000000e-01   4.79023434e-01   7.25649298e-01   2.40311308e-01\n",
        "  -1.50050555e-02   2.50000000e-01   2.50000000e-01   7.50000000e-01\n",
        "   7.50000000e-01   1.17595279e-16   7.50000000e-01   2.84513904e-17\n",
        "  -2.09207488e-17   2.50000000e-01]\n"
       ]
      }
     ],
     "prompt_number": 28
    },
    {
     "cell_type": "code",
     "collapsed": false,
     "input": [],
     "language": "python",
     "metadata": {},
     "outputs": []
    }
   ],
   "metadata": {}
  }
 ]
}